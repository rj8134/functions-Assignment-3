{
 "cells": [
  {
   "cell_type": "markdown",
   "id": "26f9da8b-07a1-40a6-8ee1-5e6a9b78b6dd",
   "metadata": {},
   "source": [
    "# Q1. Which keyword is used to create a function? Create a function to return a list of odd numbers in the range of 1 to 25."
   ]
  },
  {
   "cell_type": "code",
   "execution_count": null,
   "id": "f188e7e5-36f4-4808-a676-1446817b117c",
   "metadata": {},
   "outputs": [],
   "source": [
    "def keyword is used to create user-defined functions.\n"
   ]
  },
  {
   "cell_type": "code",
   "execution_count": 2,
   "id": "aa109863-56b6-4256-8065-dce67c32daa0",
   "metadata": {},
   "outputs": [],
   "source": [
    "def odd_numbers():\n",
    "    l=[]\n",
    "    for i in range(1,26):\n",
    "        if i%2!=0:\n",
    "            l.append(i)\n",
    "    return l"
   ]
  },
  {
   "cell_type": "code",
   "execution_count": 3,
   "id": "e25aa3f9-c0e9-484c-82f6-93a35673b4db",
   "metadata": {},
   "outputs": [
    {
     "data": {
      "text/plain": [
       "[1, 3, 5, 7, 9, 11, 13, 15, 17, 19, 21, 23, 25]"
      ]
     },
     "execution_count": 3,
     "metadata": {},
     "output_type": "execute_result"
    }
   ],
   "source": [
    "odd_numbers()"
   ]
  },
  {
   "cell_type": "markdown",
   "id": "898eaee4-a6d8-44cf-a69d-9b108134abc9",
   "metadata": {},
   "source": [
    "# Q2. Why *args and **kwargs is used in some functions? Create a function each for *args and **kwargs to demonstrate their use."
   ]
  },
  {
   "cell_type": "code",
   "execution_count": null,
   "id": "dc4f26c3-3d60-4140-8780-2a01d925956e",
   "metadata": {},
   "outputs": [],
   "source": [
    "*args is used when we don't know that how many parameters are used inside the function. \n",
    "It can take any no of parameters.\n",
    "\n",
    "In Python, we can pass a variable number of arguments to a function using special symbols. There are two special symbols:\n",
    "\n",
    "*args (Non Keyword Arguments)\n",
    "**kwargs (Keyword Arguments)\n",
    "We use *args and **kwargs as an argument when we are unsure about the number of arguments to pass in the functions.\n",
    "\n"
   ]
  },
  {
   "cell_type": "code",
   "execution_count": 4,
   "id": "d2b1d329-915c-4e36-8cbd-f0f2e35a0f0b",
   "metadata": {},
   "outputs": [],
   "source": [
    "def add(*args):\n",
    "    return sum(args)"
   ]
  },
  {
   "cell_type": "code",
   "execution_count": 5,
   "id": "345e1f16-ec78-4fa0-bf2a-a2f0f967dc2e",
   "metadata": {},
   "outputs": [
    {
     "data": {
      "text/plain": [
       "10"
      ]
     },
     "execution_count": 5,
     "metadata": {},
     "output_type": "execute_result"
    }
   ],
   "source": [
    "add(1,2,3,4)"
   ]
  },
  {
   "cell_type": "code",
   "execution_count": 6,
   "id": "b1c1461f-3036-4734-bdce-1295285ef20c",
   "metadata": {},
   "outputs": [],
   "source": [
    "def ram(**kwargs):\n",
    "    return kwargs"
   ]
  },
  {
   "cell_type": "code",
   "execution_count": 7,
   "id": "a0a13380-6ae6-4160-b6c5-c7a3cb4689db",
   "metadata": {},
   "outputs": [
    {
     "data": {
      "text/plain": [
       "{'a': 10, 'b': 'sudh', 'c': 13.5}"
      ]
     },
     "execution_count": 7,
     "metadata": {},
     "output_type": "execute_result"
    }
   ],
   "source": [
    "ram(a=10,b='sudh',c=13.5)"
   ]
  },
  {
   "cell_type": "code",
   "execution_count": 1,
   "id": "cdcdbc9e-19c3-43d6-9e91-1840f4936d31",
   "metadata": {},
   "outputs": [],
   "source": [
    "x=23\n"
   ]
  },
  {
   "cell_type": "code",
   "execution_count": 2,
   "id": "cf77fa72-c490-4871-9722-1f56ae217dd6",
   "metadata": {},
   "outputs": [
    {
     "ename": "TypeError",
     "evalue": "'int' object is not iterable",
     "output_type": "error",
     "traceback": [
      "\u001b[0;31m---------------------------------------------------------------------------\u001b[0m",
      "\u001b[0;31mTypeError\u001b[0m                                 Traceback (most recent call last)",
      "Cell \u001b[0;32mIn[2], line 1\u001b[0m\n\u001b[0;32m----> 1\u001b[0m \u001b[38;5;28;01mfor\u001b[39;00m i \u001b[38;5;129;01min\u001b[39;00m x:\n\u001b[1;32m      2\u001b[0m     \u001b[38;5;28mprint\u001b[39m(i)\n",
      "\u001b[0;31mTypeError\u001b[0m: 'int' object is not iterable"
     ]
    }
   ],
   "source": [
    "for i in x:\n",
    "    print(i)"
   ]
  },
  {
   "cell_type": "code",
   "execution_count": 8,
   "id": "5d6aef0c-a142-45d8-a2dd-016b4a8b9f9e",
   "metadata": {},
   "outputs": [
    {
     "name": "stdout",
     "output_type": "stream",
     "text": [
      "\n",
      "Data type of argument: <class 'dict'>\n",
      "Firstname is Sita\n",
      "Lastname is Sharma\n",
      "Age is 22\n",
      "Phone is 1234567890\n",
      "\n",
      "Data type of argument: <class 'dict'>\n",
      "Firstname is John\n",
      "Lastname is Wood\n",
      "Email is johnwood@nomail.com\n",
      "Country is Wakanda\n",
      "Age is 25\n",
      "Phone is 9876543210\n"
     ]
    }
   ],
   "source": [
    "def intro(**data):\n",
    "    print(\"\\nData type of argument:\",type(data))\n",
    "\n",
    "    for key, value in data.items():\n",
    "        print(\"{} is {}\".format(key,value))\n",
    "\n",
    "intro(Firstname=\"Sita\", Lastname=\"Sharma\", Age=22, Phone=1234567890)\n",
    "intro(Firstname=\"John\", Lastname=\"Wood\", Email=\"johnwood@nomail.com\", Country=\"Wakanda\", Age=25, Phone=9876543210)"
   ]
  },
  {
   "cell_type": "markdown",
   "id": "6ee0917e-394f-4666-a5d5-935ba58bbc23",
   "metadata": {},
   "source": [
    "# Q3. What is an iterator in python? Name the method used to initialise the iterator object and the method used for iteration. Use these methods to print the first five elements of the given list [2, 4, 6, 8, 10, 12, 14, 16, 18, 20]."
   ]
  },
  {
   "cell_type": "code",
   "execution_count": null,
   "id": "4b72f778-1742-4e1c-82e3-ff321efb18f3",
   "metadata": {},
   "outputs": [],
   "source": [
    "Iterators are methods that iterate collections like lists, tuples, etc. \n",
    "Using an iterator method, we can loop through an object and return its elements.\n",
    "\n",
    "Technically, a Python iterator object must implement two special methods, __iter__() and __next__(), collectively called the iterator protocol.\n",
    "\n"
   ]
  },
  {
   "cell_type": "code",
   "execution_count": 12,
   "id": "6820d6ca-c8ab-49c6-be42-5f4a07dbb85c",
   "metadata": {},
   "outputs": [
    {
     "name": "stdout",
     "output_type": "stream",
     "text": [
      "2\n",
      "4\n",
      "6\n",
      "8\n",
      "10\n"
     ]
    }
   ],
   "source": [
    "list=[2,4,6,8,10,12,14,16,18,20]\n",
    "iterator=iter(list)\n",
    "print(next(iterator))\n",
    "print(next(iterator))\n",
    "print(next(iterator))\n",
    "print(next(iterator))\n",
    "print(next(iterator))"
   ]
  },
  {
   "cell_type": "markdown",
   "id": "90905923-1c05-4e9b-ac47-1432e56ff41e",
   "metadata": {},
   "source": [
    "# q4. What is a generator function in python? Why yield keyword is used? Give an example of a generator function."
   ]
  },
  {
   "cell_type": "code",
   "execution_count": null,
   "id": "aea39c74-0887-4408-87e5-4682da55b9f7",
   "metadata": {},
   "outputs": [],
   "source": [
    "In Python, a generator is a function that returns an iterator that produces a sequence of values when iterated over.\n",
    "\n",
    "Generators are useful when we want to produce a large sequence of values, but we don't want to store all of them in memory at once.\n",
    "In Python, similar to defining a normal function, we can define a generator function using the def keyword, but instead of the return statement we use the yield statement.\n",
    "def generator_name(arg):\n",
    "    # statements\n",
    "    yield something\n",
    "\n",
    "Here, the yield keyword is used to produce a value from the generator.\n",
    "\n",
    "When the generator function is called, it does not execute the function body immediately. Instead, it returns a generator object that can be iterated over to produce the values."
   ]
  },
  {
   "cell_type": "code",
   "execution_count": 13,
   "id": "b7277ce7-812b-43ec-af13-88395cc4aff5",
   "metadata": {},
   "outputs": [],
   "source": [
    "def test_fib(n):\n",
    "    a,b=0,1\n",
    "    for i in range(n):\n",
    "        yield a\n",
    "        a,b=b,a+b\n",
    "        "
   ]
  },
  {
   "cell_type": "code",
   "execution_count": 15,
   "id": "1980060c-98f6-499a-a5ca-36e8a876ffed",
   "metadata": {},
   "outputs": [
    {
     "name": "stdout",
     "output_type": "stream",
     "text": [
      "0\n",
      "1\n",
      "1\n",
      "2\n",
      "3\n",
      "5\n",
      "8\n",
      "13\n",
      "21\n",
      "34\n"
     ]
    }
   ],
   "source": [
    "for i in test_fib(10):\n",
    "    print(i)"
   ]
  },
  {
   "cell_type": "markdown",
   "id": "60dd74b6-8b77-4016-9967-cec0eb4dd5d4",
   "metadata": {},
   "source": [
    "# Q5. Create a generator function for prime numbers less than 1000. Use the next() method to print the first 20 prime numbers."
   ]
  },
  {
   "cell_type": "code",
   "execution_count": 49,
   "id": "4f910425-2a6e-4ab4-9101-43aaaddcca55",
   "metadata": {},
   "outputs": [],
   "source": [
    "def prime_generator(l):\n",
    "    a=2\n",
    "    while a<l:\n",
    "        if a==2 or a%2!=0:\n",
    "            yield a\n",
    "        a+=1\n",
    "        "
   ]
  },
  {
   "cell_type": "code",
   "execution_count": 56,
   "id": "bd1aa23d-3b5f-4ebb-943f-5e238edca8f7",
   "metadata": {},
   "outputs": [
    {
     "name": "stdout",
     "output_type": "stream",
     "text": [
      "2  3  5  7  9  11  13  15  17  19  21  23  25  27  29  31  33  35  37  39  41  43  45  47  49  51  53  55  57  59  61  63  65  67  69  71  73  75  77  79  81  83  85  87  89  91  93  95  97  99  101  103  105  107  109  111  113  115  117  119  121  123  125  127  129  131  133  135  137  139  141  143  145  147  149  151  153  155  157  159  161  163  165  167  169  171  173  175  177  179  181  183  185  187  189  191  193  195  197  199  201  203  205  207  209  211  213  215  217  219  221  223  225  227  229  231  233  235  237  239  241  243  245  247  249  251  253  255  257  259  261  263  265  267  269  271  273  275  277  279  281  283  285  287  289  291  293  295  297  299  301  303  305  307  309  311  313  315  317  319  321  323  325  327  329  331  333  335  337  339  341  343  345  347  349  351  353  355  357  359  361  363  365  367  369  371  373  375  377  379  381  383  385  387  389  391  393  395  397  399  401  403  405  407  409  411  413  415  417  419  421  423  425  427  429  431  433  435  437  439  441  443  445  447  449  451  453  455  457  459  461  463  465  467  469  471  473  475  477  479  481  483  485  487  489  491  493  495  497  499  501  503  505  507  509  511  513  515  517  519  521  523  525  527  529  531  533  535  537  539  541  543  545  547  549  551  553  555  557  559  561  563  565  567  569  571  573  575  577  579  581  583  585  587  589  591  593  595  597  599  601  603  605  607  609  611  613  615  617  619  621  623  625  627  629  631  633  635  637  639  641  643  645  647  649  651  653  655  657  659  661  663  665  667  669  671  673  675  677  679  681  683  685  687  689  691  693  695  697  699  701  703  705  707  709  711  713  715  717  719  721  723  725  727  729  731  733  735  737  739  741  743  745  747  749  751  753  755  757  759  761  763  765  767  769  771  773  775  777  779  781  783  785  787  789  791  793  795  797  799  801  803  805  807  809  811  813  815  817  819  821  823  825  827  829  831  833  835  837  839  841  843  845  847  849  851  853  855  857  859  861  863  865  867  869  871  873  875  877  879  881  883  885  887  889  891  893  895  897  899  901  903  905  907  909  911  913  915  917  919  921  923  925  927  929  931  933  935  937  939  941  943  945  947  949  951  953  955  957  959  961  963  965  967  969  971  973  975  977  979  981  983  985  987  989  991  993  995  997  999  "
     ]
    }
   ],
   "source": [
    "for value in prime_generator(1000):\n",
    "    print(value,end='  ')\n",
    "\n",
    "                        "
   ]
  },
  {
   "cell_type": "code",
   "execution_count": 82,
   "id": "3b896eda-b654-49b6-9d7e-86976e529e89",
   "metadata": {},
   "outputs": [
    {
     "data": {
      "text/plain": [
       "generator"
      ]
     },
     "execution_count": 82,
     "metadata": {},
     "output_type": "execute_result"
    }
   ],
   "source": [
    "generator=prime_generator(1000)\n",
    "type(generator)"
   ]
  },
  {
   "cell_type": "code",
   "execution_count": 83,
   "id": "8615e173-40a0-4520-9f8f-83608efa4c2a",
   "metadata": {},
   "outputs": [
    {
     "name": "stdout",
     "output_type": "stream",
     "text": [
      "2 3 5 7 9 11 13 15 17 19 21 23 25 27 29 31 33 35 37 39 "
     ]
    }
   ],
   "source": [
    "for i in range(20):\n",
    "    prime=next(generator)\n",
    "    print(prime,end=' ')     \n",
    "     "
   ]
  }
 ],
 "metadata": {
  "kernelspec": {
   "display_name": "Python 3 (ipykernel)",
   "language": "python",
   "name": "python3"
  },
  "language_info": {
   "codemirror_mode": {
    "name": "ipython",
    "version": 3
   },
   "file_extension": ".py",
   "mimetype": "text/x-python",
   "name": "python",
   "nbconvert_exporter": "python",
   "pygments_lexer": "ipython3",
   "version": "3.10.8"
  }
 },
 "nbformat": 4,
 "nbformat_minor": 5
}
